{
 "cells": [
  {
   "cell_type": "code",
   "execution_count": 51,
   "metadata": {},
   "outputs": [],
   "source": [
    "from CTM import CTM \n",
    "import warnings\n",
    "warnings.filterwarnings('ignore')\n",
    "import os\n",
    "import pandas as pd\n",
    "os.environ[\"TOKENIZERS_PARALLELISM\"] = \"false\""
   ]
  },
  {
   "cell_type": "code",
   "execution_count": 54,
   "metadata": {},
   "outputs": [
    {
     "name": "stdout",
     "output_type": "stream",
     "text": [
      "Unexpected exception formatting exception. Falling back to standard exception\n"
     ]
    },
    {
     "name": "stderr",
     "output_type": "stream",
     "text": [
      "Traceback (most recent call last):\n",
      "  File \"/Users/guisalesfer/miniconda3/envs/tcc_ctm/lib/python3.8/site-packages/IPython/core/interactiveshell.py\", line 3508, in run_code\n",
      "    exec(code_obj, self.user_global_ns, self.user_ns)\n",
      "  File \"/var/folders/vs/gl9k6_fd3jz6c4r5bp8z46nc0000gp/T/ipykernel_39006/2284595789.py\", line 28, in <module>\n",
      "    ctm = CTM(4, str(story))\n",
      "  File \"/Users/guisalesfer/CTM_implementation/ctm_project/classes/CTM.py\", line 29, in __init__\n",
      "    print(content)\n",
      "  File \"/Users/guisalesfer/CTM_implementation/ctm_project/classes/InputMap.py\", line 31, in __init__\n",
      "  File \"/Users/guisalesfer/CTM_implementation/ctm_project/classes/InputMap.py\", line 46, in generate_input_content\n",
      "    for sentence in self.partitioned:\n",
      "  File \"/Users/guisalesfer/CTM_implementation/ctm_project/classes/Processors.py\", line 176, in process\n",
      "    return self.analyzer.predict(input).output\n",
      "  File \"/Users/guisalesfer/miniconda3/envs/tcc_ctm/lib/python3.8/site-packages/pysentimiento/analyzer.py\", line 334, in predict\n",
      "    return self._predict_single(\n",
      "  File \"/Users/guisalesfer/miniconda3/envs/tcc_ctm/lib/python3.8/site-packages/pysentimiento/analyzer.py\", line 303, in _predict_single\n",
      "    return self._get_output(sentence, logits)\n",
      "  File \"/Users/guisalesfer/miniconda3/envs/tcc_ctm/lib/python3.8/site-packages/pysentimiento/analyzer.py\", line 271, in _get_output\n",
      "    probas = {self.id2label[i]: probs[i].item() for i in self.id2label}\n",
      "  File \"/Users/guisalesfer/miniconda3/envs/tcc_ctm/lib/python3.8/site-packages/pysentimiento/analyzer.py\", line 271, in <dictcomp>\n",
      "    probas = {self.id2label[i]: probs[i].item() for i in self.id2label}\n",
      "KeyboardInterrupt\n",
      "\n",
      "During handling of the above exception, another exception occurred:\n",
      "\n",
      "Traceback (most recent call last):\n",
      "  File \"/Users/guisalesfer/miniconda3/envs/tcc_ctm/lib/python3.8/site-packages/IPython/core/interactiveshell.py\", line 2105, in showtraceback\n",
      "    stb = self.InteractiveTB.structured_traceback(\n",
      "  File \"/Users/guisalesfer/miniconda3/envs/tcc_ctm/lib/python3.8/site-packages/IPython/core/ultratb.py\", line 1396, in structured_traceback\n",
      "    return FormattedTB.structured_traceback(\n",
      "  File \"/Users/guisalesfer/miniconda3/envs/tcc_ctm/lib/python3.8/site-packages/IPython/core/ultratb.py\", line 1287, in structured_traceback\n",
      "    return VerboseTB.structured_traceback(\n",
      "  File \"/Users/guisalesfer/miniconda3/envs/tcc_ctm/lib/python3.8/site-packages/IPython/core/ultratb.py\", line 1140, in structured_traceback\n",
      "    formatted_exception = self.format_exception_as_a_whole(etype, evalue, etb, number_of_lines_of_context,\n",
      "  File \"/Users/guisalesfer/miniconda3/envs/tcc_ctm/lib/python3.8/site-packages/IPython/core/ultratb.py\", line 1055, in format_exception_as_a_whole\n",
      "    frames.append(self.format_record(record))\n",
      "  File \"/Users/guisalesfer/miniconda3/envs/tcc_ctm/lib/python3.8/site-packages/IPython/core/ultratb.py\", line 955, in format_record\n",
      "    frame_info.lines, Colors, self.has_colors, lvals\n",
      "  File \"/Users/guisalesfer/miniconda3/envs/tcc_ctm/lib/python3.8/site-packages/IPython/core/ultratb.py\", line 778, in lines\n",
      "    return self._sd.lines\n",
      "  File \"/Users/guisalesfer/miniconda3/envs/tcc_ctm/lib/python3.8/site-packages/stack_data/utils.py\", line 144, in cached_property_wrapper\n",
      "    value = obj.__dict__[self.func.__name__] = self.func(obj)\n",
      "  File \"/Users/guisalesfer/miniconda3/envs/tcc_ctm/lib/python3.8/site-packages/stack_data/core.py\", line 734, in lines\n",
      "    pieces = self.included_pieces\n",
      "  File \"/Users/guisalesfer/miniconda3/envs/tcc_ctm/lib/python3.8/site-packages/stack_data/utils.py\", line 144, in cached_property_wrapper\n",
      "    value = obj.__dict__[self.func.__name__] = self.func(obj)\n",
      "  File \"/Users/guisalesfer/miniconda3/envs/tcc_ctm/lib/python3.8/site-packages/stack_data/core.py\", line 681, in included_pieces\n",
      "    pos = scope_pieces.index(self.executing_piece)\n",
      "  File \"/Users/guisalesfer/miniconda3/envs/tcc_ctm/lib/python3.8/site-packages/stack_data/utils.py\", line 144, in cached_property_wrapper\n",
      "    value = obj.__dict__[self.func.__name__] = self.func(obj)\n",
      "  File \"/Users/guisalesfer/miniconda3/envs/tcc_ctm/lib/python3.8/site-packages/stack_data/core.py\", line 660, in executing_piece\n",
      "    return only(\n",
      "  File \"/Users/guisalesfer/miniconda3/envs/tcc_ctm/lib/python3.8/site-packages/executing/executing.py\", line 116, in only\n",
      "    raise NotOneValueFound('Expected one value, found 0')\n",
      "executing.executing.NotOneValueFound: Expected one value, found 0\n"
     ]
    }
   ],
   "source": [
    "for test in os.listdir('/Users/guisalesfer/CTM_implementation/tasks/babi-tasks/test'):\n",
    "    for task in os.listdir(os.path.join('/Users/guisalesfer/CTM_implementation/tasks/babi-tasks/test', test)):\n",
    "        if task.endswith('.txt'):\n",
    "            with open(os.path.join('/Users/guisalesfer/CTM_implementation/tasks/babi-tasks/test', test, task)) as f:\n",
    "                task = f.read()\n",
    "            qa = []\n",
    "            context = []\n",
    "            story = []\n",
    "            for line in task.split('\\n'):\n",
    "                actual_sentence = ' '.join(line.split(' ')[1:])\n",
    "                if '?' in actual_sentence:\n",
    "                    question = actual_sentence.split('\\t')\n",
    "                    context.append(question[0].strip())\n",
    "                    context = ' '.join(context)\n",
    "                    story.append(context)\n",
    "                    qa.append((context, question[1], question[2]))\n",
    "                    context = []\n",
    "                else:\n",
    "                    context.append(actual_sentence)\n",
    "\n",
    "            file1 = \"output_report.txt\"\n",
    "            file2 = \"uptree_competition.txt\"\n",
    "            files_to_check = [file1, file2]\n",
    "            for file in files_to_check:\n",
    "                if os.path.exists(file):\n",
    "                    os.remove(file)\n",
    "\n",
    "            ctm = CTM(4, str(story))\n",
    "            ctm.run()\n",
    "            break\n"
   ]
  },
  {
   "cell_type": "code",
   "execution_count": null,
   "metadata": {},
   "outputs": [],
   "source": []
  }
 ],
 "metadata": {
  "kernelspec": {
   "display_name": "tcc_ctm",
   "language": "python",
   "name": "python3"
  },
  "language_info": {
   "codemirror_mode": {
    "name": "ipython",
    "version": 3
   },
   "file_extension": ".py",
   "mimetype": "text/x-python",
   "name": "python",
   "nbconvert_exporter": "python",
   "pygments_lexer": "ipython3",
   "version": "3.8.20"
  }
 },
 "nbformat": 4,
 "nbformat_minor": 2
}
