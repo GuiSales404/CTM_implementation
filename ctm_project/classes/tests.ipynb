{
 "cells": [
  {
   "cell_type": "code",
   "execution_count": 2,
   "metadata": {},
   "outputs": [],
   "source": [
    "from UpTree import UpTree"
   ]
  },
  {
   "cell_type": "code",
   "execution_count": 3,
   "metadata": {},
   "outputs": [],
   "source": [
    "tree = UpTree(8)"
   ]
  },
  {
   "cell_type": "code",
   "execution_count": 5,
   "metadata": {},
   "outputs": [
    {
     "name": "stdout",
     "output_type": "stream",
     "text": [
      "left_chunk: None, right_chunk: None\n"
     ]
    },
    {
     "ename": "AttributeError",
     "evalue": "'NoneType' object has no attribute 'intensity'",
     "output_type": "error",
     "traceback": [
      "\u001b[0;31m---------------------------------------------------------------------------\u001b[0m",
      "\u001b[0;31mAttributeError\u001b[0m                            Traceback (most recent call last)",
      "Cell \u001b[0;32mIn[5], line 1\u001b[0m\n\u001b[0;32m----> 1\u001b[0m \u001b[43mtree\u001b[49m\u001b[38;5;241;43m.\u001b[39;49m\u001b[43mcompete\u001b[49m\u001b[43m(\u001b[49m\u001b[38;5;124;43m'\u001b[39;49m\u001b[38;5;124;43m'\u001b[39;49m\u001b[43m)\u001b[49m\n",
      "File \u001b[0;32m~/CTM_implementation/ctm_project/classes/UpTree.py:57\u001b[0m, in \u001b[0;36mUpTree.compete\u001b[0;34m(self, chunks)\u001b[0m\n\u001b[1;32m     55\u001b[0m     right_chunk \u001b[38;5;241m=\u001b[39m node\u001b[38;5;241m.\u001b[39mchildren[\u001b[38;5;241m1\u001b[39m]\u001b[38;5;241m.\u001b[39mdata\n\u001b[1;32m     56\u001b[0m     \u001b[38;5;28mprint\u001b[39m(\u001b[38;5;124mf\u001b[39m\u001b[38;5;124m\"\u001b[39m\u001b[38;5;124mleft_chunk: \u001b[39m\u001b[38;5;132;01m{\u001b[39;00mleft_chunk\u001b[38;5;132;01m}\u001b[39;00m\u001b[38;5;124m, right_chunk: \u001b[39m\u001b[38;5;132;01m{\u001b[39;00mright_chunk\u001b[38;5;132;01m}\u001b[39;00m\u001b[38;5;124m\"\u001b[39m)\n\u001b[0;32m---> 57\u001b[0m     node\u001b[38;5;241m.\u001b[39mdata \u001b[38;5;241m=\u001b[39m \u001b[38;5;28;43mself\u001b[39;49m\u001b[38;5;241;43m.\u001b[39;49m\u001b[43m_competition_function\u001b[49m\u001b[43m(\u001b[49m\u001b[43mleft_chunk\u001b[49m\u001b[43m,\u001b[49m\u001b[43m \u001b[49m\u001b[43mright_chunk\u001b[49m\u001b[43m)\u001b[49m\n\u001b[1;32m     58\u001b[0m \u001b[38;5;28;01melse\u001b[39;00m:\n\u001b[1;32m     59\u001b[0m     node\u001b[38;5;241m.\u001b[39mdata \u001b[38;5;241m=\u001b[39m node\u001b[38;5;241m.\u001b[39mchildren[\u001b[38;5;241m0\u001b[39m]\u001b[38;5;241m.\u001b[39mdata\n",
      "File \u001b[0;32m~/CTM_implementation/ctm_project/classes/UpTree.py:63\u001b[0m, in \u001b[0;36mUpTree._competition_function\u001b[0;34m(self, left_chunk, right_chunk)\u001b[0m\n\u001b[1;32m     62\u001b[0m \u001b[38;5;28;01mdef\u001b[39;00m \u001b[38;5;21m_competition_function\u001b[39m(\u001b[38;5;28mself\u001b[39m, left_chunk, right_chunk):\n\u001b[0;32m---> 63\u001b[0m     left_value \u001b[38;5;241m=\u001b[39m \u001b[43mleft_chunk\u001b[49m\u001b[38;5;241;43m.\u001b[39;49m\u001b[43mintensity\u001b[49m \u001b[38;5;241m+\u001b[39m \u001b[38;5;241m0.5\u001b[39m \u001b[38;5;241m*\u001b[39m left_chunk\u001b[38;5;241m.\u001b[39mmood\n\u001b[1;32m     64\u001b[0m     right_value \u001b[38;5;241m=\u001b[39m right_chunk\u001b[38;5;241m.\u001b[39mintensity \u001b[38;5;241m+\u001b[39m \u001b[38;5;241m0.5\u001b[39m \u001b[38;5;241m*\u001b[39m right_chunk\u001b[38;5;241m.\u001b[39mmood\n\u001b[1;32m     65\u001b[0m     \u001b[38;5;28;01mif\u001b[39;00m left_value \u001b[38;5;241m==\u001b[39m \u001b[38;5;28mself\u001b[39m\u001b[38;5;241m.\u001b[39mcoin_flip_neuron(left_value, right_value):\n",
      "\u001b[0;31mAttributeError\u001b[0m: 'NoneType' object has no attribute 'intensity'"
     ]
    }
   ],
   "source": [
    "tree.compete('')"
   ]
  },
  {
   "cell_type": "code",
   "execution_count": null,
   "metadata": {},
   "outputs": [],
   "source": []
  }
 ],
 "metadata": {
  "kernelspec": {
   "display_name": "tcc_ctm",
   "language": "python",
   "name": "python3"
  },
  "language_info": {
   "codemirror_mode": {
    "name": "ipython",
    "version": 3
   },
   "file_extension": ".py",
   "mimetype": "text/x-python",
   "name": "python",
   "nbconvert_exporter": "python",
   "pygments_lexer": "ipython3",
   "version": "3.12.4"
  }
 },
 "nbformat": 4,
 "nbformat_minor": 2
}
