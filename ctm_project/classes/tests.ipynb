{
 "cells": [
  {
   "cell_type": "code",
   "execution_count": 1,
   "metadata": {},
   "outputs": [],
   "source": [
    "from UpTree import UpTree\n",
    "from Processors import *\n",
    "from STM import STM\n",
    "from LTM import LTM\n",
    "\n",
    "stm = STM()\n",
    "ltm = LTM(['llm']*8)\n",
    "\n",
    "upt = UpTree(stm=stm, ltm=ltm)"
   ]
  },
  {
   "cell_type": "code",
   "execution_count": 2,
   "metadata": {},
   "outputs": [],
   "source": [
    "# %%capture\n",
    "# sentence = \"Eu não sou capaz de acreditar que a raíz quadrada de 2 é um número irracional.\"\n",
    "# gist = {\n",
    "# \t\t\t\"sentence\": sentence,\n",
    "# \t\t\t\"syntatic_tree_stanza\": syntatic_tree_stanza_processor().process(sentence),\n",
    "# \t\t\t\"syntatic_tree_spacy\": syntatic_tree_spacy_processor().process(sentence),\n",
    "# \t\t\t\"irony\": irony_detection_processor().process(sentence),\n",
    "# \t\t\t\"hate_speech\": hate_speech_detection_processor().process(sentence),\n",
    "# \t\t\t\"emotion_detection\": emotion_detection_processor().process(sentence),\n",
    "# \t\t\t\"sentiment_analysis\": sentiment_analysis().process(sentence),\n",
    "# \t\t\t\"ner\": ner().process(sentence),\n",
    "# \t\t\t\"summarization\": summarization().process(sentence),\n",
    "# \t\t}\n",
    "\n",
    "gist = {\n",
    "    'sentence': 'Eu não sou capaz de acreditar que a raíz quadrada de 2 é um número irracional.',\n",
    "\t'syntatic_tree_stanza': ['Eu -> nsubj -> capaz',\n",
    "\t'não -> advmod -> capaz',\n",
    "\t'sou -> cop -> capaz',\n",
    "\t'capaz -> root -> ROOT',\n",
    "\t'de -> mark -> acreditar',\n",
    "\t'acreditar -> xcomp -> capaz',\n",
    "\t'que -> mark -> número',\n",
    "\t'a -> det -> raíz',\n",
    "\t'raíz -> nsubj -> número',\n",
    "\t'quadrada -> amod -> raíz',\n",
    "\t'de -> case -> 2',\n",
    "\t'2 -> nmod -> raíz',\n",
    "\t'é -> cop -> número',\n",
    "\t'um -> det -> número',\n",
    "\t'número -> ccomp -> acreditar',\n",
    "\t'irracional -> amod -> número',\n",
    "\t'. -> punct -> capaz'],\n",
    "\t'syntatic_tree_spacy': ['Eu -> nsubj -> capaz',\n",
    "\t'não -> advmod -> capaz',\n",
    "\t'sou -> cop -> capaz',\n",
    "\t'capaz -> ROOT -> capaz',\n",
    "\t'de -> mark -> acreditar',\n",
    "\t'acreditar -> xcomp -> capaz',\n",
    "\t'que -> mark -> número',\n",
    "\t'a -> det -> raíz',\n",
    "\t'raíz -> nsubj -> número',\n",
    "\t'quadrada -> advmod -> raíz',\n",
    "\t'de -> case -> 2',\n",
    "\t'2 -> nmod -> quadrada',\n",
    "\t'é -> cop -> número',\n",
    "\t'um -> det -> número',\n",
    "\t'número -> ccomp -> acreditar',\n",
    "\t'irracional -> amod -> número',\n",
    "\t'. -> punct -> capaz'],\n",
    "\t'irony': 'ironic',\n",
    "\t'hate_speech': [],\n",
    "\t'emotion_detection': ['surprise'],\n",
    "\t'sentiment_analysis': [{'label': '1 star', 'score': 0.45975199341773987}],\n",
    "\t'ner': [],\n",
    "\t'summarization': 'I no sabe que a raz quadrada de 2 é um nmero irracional.'\n",
    "}"
   ]
  },
  {
   "cell_type": "code",
   "execution_count": 3,
   "metadata": {},
   "outputs": [
    {
     "data": {
      "text/plain": [
       "{'sentence': 'Eu não sou capaz de acreditar que a raíz quadrada de 2 é um número irracional.',\n",
       " 'syntatic_tree_stanza': ['Eu -> nsubj -> capaz',\n",
       "  'não -> advmod -> capaz',\n",
       "  'sou -> cop -> capaz',\n",
       "  'capaz -> root -> ROOT',\n",
       "  'de -> mark -> acreditar',\n",
       "  'acreditar -> xcomp -> capaz',\n",
       "  'que -> mark -> número',\n",
       "  'a -> det -> raíz',\n",
       "  'raíz -> nsubj -> número',\n",
       "  'quadrada -> amod -> raíz',\n",
       "  'de -> case -> 2',\n",
       "  '2 -> nmod -> raíz',\n",
       "  'é -> cop -> número',\n",
       "  'um -> det -> número',\n",
       "  'número -> ccomp -> acreditar',\n",
       "  'irracional -> amod -> número',\n",
       "  '. -> punct -> capaz'],\n",
       " 'syntatic_tree_spacy': ['Eu -> nsubj -> capaz',\n",
       "  'não -> advmod -> capaz',\n",
       "  'sou -> cop -> capaz',\n",
       "  'capaz -> ROOT -> capaz',\n",
       "  'de -> mark -> acreditar',\n",
       "  'acreditar -> xcomp -> capaz',\n",
       "  'que -> mark -> número',\n",
       "  'a -> det -> raíz',\n",
       "  'raíz -> nsubj -> número',\n",
       "  'quadrada -> advmod -> raíz',\n",
       "  'de -> case -> 2',\n",
       "  '2 -> nmod -> quadrada',\n",
       "  'é -> cop -> número',\n",
       "  'um -> det -> número',\n",
       "  'número -> ccomp -> acreditar',\n",
       "  'irracional -> amod -> número',\n",
       "  '. -> punct -> capaz'],\n",
       " 'irony': 'ironic',\n",
       " 'hate_speech': [],\n",
       " 'emotion_detection': ['surprise'],\n",
       " 'sentiment_analysis': [{'label': '1 star', 'score': 0.45975199341773987}],\n",
       " 'ner': [],\n",
       " 'summarization': 'I no sabe que a raz quadrada de 2 é um nmero irracional.'}"
      ]
     },
     "execution_count": 3,
     "metadata": {},
     "output_type": "execute_result"
    }
   ],
   "source": [
    "gist"
   ]
  },
  {
   "cell_type": "code",
   "execution_count": 5,
   "metadata": {},
   "outputs": [
    {
     "ename": "AttributeError",
     "evalue": "'function' object has no attribute 'process'",
     "output_type": "error",
     "traceback": [
      "\u001b[0;31m---------------------------------------------------------------------------\u001b[0m",
      "\u001b[0;31mAttributeError\u001b[0m                            Traceback (most recent call last)",
      "Cell \u001b[0;32mIn[5], line 1\u001b[0m\n\u001b[0;32m----> 1\u001b[0m \u001b[43mltm\u001b[49m\u001b[38;5;241;43m.\u001b[39;49m\u001b[43mprocess\u001b[49m\u001b[43m(\u001b[49m\u001b[43mgist\u001b[49m\u001b[43m,\u001b[49m\u001b[43m \u001b[49m\u001b[38;5;124;43m'\u001b[39;49m\u001b[38;5;124;43mInput\u001b[39;49m\u001b[38;5;124;43m'\u001b[39;49m\u001b[43m)\u001b[49m\n",
      "File \u001b[0;32m~/CTM_implementation/ctm_project/classes/LTM.py:25\u001b[0m, in \u001b[0;36mLTM.process\u001b[0;34m(self, chunk, subject)\u001b[0m\n\u001b[1;32m     23\u001b[0m \u001b[38;5;28;01mdef\u001b[39;00m \u001b[38;5;21mprocess\u001b[39m(\u001b[38;5;28mself\u001b[39m, chunk, subject) \u001b[38;5;241m-\u001b[39m\u001b[38;5;241m>\u001b[39m \u001b[38;5;28;01mNone\u001b[39;00m:\n\u001b[1;32m     24\u001b[0m     \u001b[38;5;28;01mfor\u001b[39;00m processor \u001b[38;5;129;01min\u001b[39;00m \u001b[38;5;28mself\u001b[39m\u001b[38;5;241m.\u001b[39mprocessors:\n\u001b[0;32m---> 25\u001b[0m         \u001b[43mprocessor\u001b[49m\u001b[38;5;241;43m.\u001b[39;49m\u001b[43mprocess_chunk\u001b[49m\u001b[43m(\u001b[49m\u001b[43mchunk\u001b[49m\u001b[43m,\u001b[49m\u001b[43m \u001b[49m\u001b[43msubject\u001b[49m\u001b[43m)\u001b[49m\n",
      "File \u001b[0;32m~/CTM_implementation/ctm_project/classes/ProcessorNode.py:42\u001b[0m, in \u001b[0;36mProcessorNode.process_chunk\u001b[0;34m(self, chunk, subject)\u001b[0m\n\u001b[1;32m     40\u001b[0m \u001b[38;5;28;01mdef\u001b[39;00m \u001b[38;5;21mprocess_chunk\u001b[39m(\u001b[38;5;28mself\u001b[39m, chunk, subject) \u001b[38;5;241m-\u001b[39m\u001b[38;5;241m>\u001b[39m Chunk:\n\u001b[1;32m     41\u001b[0m     \u001b[38;5;28mself\u001b[39m\u001b[38;5;241m.\u001b[39mmemory\u001b[38;5;241m.\u001b[39mappend(\u001b[38;5;28mself\u001b[39m\u001b[38;5;241m.\u001b[39mformat_to_memory(subject, chunk))\n\u001b[0;32m---> 42\u001b[0m     chunk_process \u001b[38;5;241m=\u001b[39m \u001b[38;5;28;43mself\u001b[39;49m\u001b[38;5;241;43m.\u001b[39;49m\u001b[43mprocessor\u001b[49m\u001b[38;5;241;43m.\u001b[39;49m\u001b[43mprocess\u001b[49m(\u001b[38;5;28mself\u001b[39m\u001b[38;5;241m.\u001b[39mmemory)\n\u001b[1;32m     43\u001b[0m     result_chunk \u001b[38;5;241m=\u001b[39m \u001b[38;5;28mself\u001b[39m\u001b[38;5;241m.\u001b[39mgenerate_chunk(chunk_process)\n\u001b[1;32m     44\u001b[0m     \u001b[38;5;28mprint\u001b[39m(\u001b[38;5;124m'\u001b[39m\u001b[38;5;124mProcessor:\u001b[39m\u001b[38;5;124m'\u001b[39m, \u001b[38;5;28mself\u001b[39m\u001b[38;5;241m.\u001b[39mname, \u001b[38;5;124m'\u001b[39m\u001b[38;5;124mprocessed:\u001b[39m\u001b[38;5;124m'\u001b[39m, result_chunk)\n",
      "\u001b[0;31mAttributeError\u001b[0m: 'function' object has no attribute 'process'"
     ]
    }
   ],
   "source": [
    "ltm.process(gist, 'Input')"
   ]
  },
  {
   "cell_type": "code",
   "execution_count": null,
   "metadata": {},
   "outputs": [],
   "source": []
  }
 ],
 "metadata": {
  "kernelspec": {
   "display_name": "tcc_ctm",
   "language": "python",
   "name": "python3"
  },
  "language_info": {
   "codemirror_mode": {
    "name": "ipython",
    "version": 3
   },
   "file_extension": ".py",
   "mimetype": "text/x-python",
   "name": "python",
   "nbconvert_exporter": "python",
   "pygments_lexer": "ipython3",
   "version": "3.10.0"
  }
 },
 "nbformat": 4,
 "nbformat_minor": 2
}
