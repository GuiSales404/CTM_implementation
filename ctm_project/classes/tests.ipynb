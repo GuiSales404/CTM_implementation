{
 "cells": [
  {
   "cell_type": "code",
   "execution_count": 2,
   "metadata": {},
   "outputs": [
    {
     "name": "stdout",
     "output_type": "stream",
     "text": [
      "root: 0_h\n",
      "    left: 0_i\n",
      "        left: 0_u\n",
      "            left: Processor sentiment\n",
      "            right: Processor ner\n",
      "        right: 2_d\n",
      "            left: Processor summarization\n",
      "            right: Processor qa\n",
      "    right: 2_h\n",
      "        left: 4_a\n",
      "            left: Processor llm\n",
      "            right: Processor llama\n",
      "        right: 6_x\n",
      "            left: Processor syntatic-stanza\n",
      "            right: Processor syntatic-spacy\n"
     ]
    }
   ],
   "source": [
    "from UpTree import UpTree\n",
    "\n",
    "uptree = UpTree(['sentiment', 'ner', 'summarization', 'qa', 'llm', 'llama', 'syntatic-stanza', 'syntatic-spacy'])"
   ]
  },
  {
   "cell_type": "code",
   "execution_count": 19,
   "metadata": {},
   "outputs": [
    {
     "name": "stdout",
     "output_type": "stream",
     "text": [
      "sentiment\n"
     ]
    },
    {
     "data": {
      "text/plain": [
       "<function ProcessorNode.ProcessorNode.__init__.<locals>.<lambda>()>"
      ]
     },
     "execution_count": 19,
     "metadata": {},
     "output_type": "execute_result"
    }
   ],
   "source": [
    "print(uptree.leaves[0].name)\n",
    "uptree.leaves[0].processor"
   ]
  },
  {
   "cell_type": "code",
   "execution_count": null,
   "metadata": {},
   "outputs": [],
   "source": []
  }
 ],
 "metadata": {
  "kernelspec": {
   "display_name": "tcc_ctm",
   "language": "python",
   "name": "python3"
  },
  "language_info": {
   "codemirror_mode": {
    "name": "ipython",
    "version": 3
   },
   "file_extension": ".py",
   "mimetype": "text/x-python",
   "name": "python",
   "nbconvert_exporter": "python",
   "pygments_lexer": "ipython3",
   "version": "3.8.20"
  }
 },
 "nbformat": 4,
 "nbformat_minor": 2
}
