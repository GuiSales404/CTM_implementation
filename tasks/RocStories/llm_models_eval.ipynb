{
 "cells": [
  {
   "cell_type": "code",
   "execution_count": 1,
   "metadata": {},
   "outputs": [],
   "source": [
    "import os\n",
    "import pandas as pd\n",
    "from groq import Groq\n",
    "from itertools import product\n",
    "from time import sleep"
   ]
  },
  {
   "cell_type": "code",
   "execution_count": 2,
   "metadata": {},
   "outputs": [],
   "source": [
    "client = Groq(\n",
    "\t\t\t\t# base_url=\"https://api.groq.com/openai/v1\",\n",
    "\t\t\t\tapi_key=os.getenv('GROQ_API_KEY')\n",
    "\t\t\t\t)"
   ]
  },
  {
   "cell_type": "code",
   "execution_count": 3,
   "metadata": {},
   "outputs": [],
   "source": [
    "all_models = ['gemma2-9b-it', 'llama3-8b-8192', 'mixtral-8x7b-32768', 'llama-3.1-8b-instant', 'deepseek-r1-distill-llama-70b', 'llama3-70b-8192']"
   ]
  },
  {
   "cell_type": "markdown",
   "metadata": {},
   "source": [
    "Tirando a média de todas as temperaturas dos modelos temos uma temperatura de 0.4975 que vamos aproximar para 5"
   ]
  },
  {
   "cell_type": "code",
   "execution_count": 4,
   "metadata": {},
   "outputs": [],
   "source": [
    "def process(model_type, messages):\n",
    "\tresponse = client.chat.completions.create(\n",
    "\t\t\t\t\t\t\t\t\t\t\tmodel=model_type,\n",
    "\t\t\t\t\t\t\t\t\t\t\tmessages=messages,\n",
    "\t\t\t\t\t\t\t\t\t\t\ttemperature=0.5\n",
    "\t\t\t\t\t\t\t\t\t\t)\n",
    "\treturn response.choices[0].message.content"
   ]
  },
  {
   "cell_type": "code",
   "execution_count": 5,
   "metadata": {},
   "outputs": [],
   "source": [
    "base_path_babi = '/Users/guisalesfer/CTM_implementation/tasks/babi-tasks'\n",
    "base_path_rocstories = '/Users/guisalesfer/CTM_implementation/tasks/RocStories'\n",
    "\n",
    "def babi_eval():\n",
    "    os.makedirs(os.path.join(base_path_babi, 'results_llm'), exist_ok=True)\n",
    "    for model, task in list(product(all_models, os.listdir(os.path.join(base_path_babi, 'results_ctm')))):\n",
    "        os.makedirs(os.path.join(base_path_babi, 'results_llm', model), exist_ok=True)\n",
    "        test_df = pd.read_csv(os.path.join(base_path_babi, 'results_ctm', task)).dropna()[['question', 'y']]\n",
    "        messages = []\n",
    "        messages.append({\n",
    "            \"role\": \"system\",\n",
    "            \"content\": \"You will receive a text that provides context for a logical problem. You must solve the problem and return the answer. The answer need to be most straight as possible and do not add text after o before the answer.\"\n",
    "        })\n",
    "        for i, row in test_df.iterrows():\n",
    "            messages.append({\n",
    "                \"role\": \"user\",\n",
    "                \"content\": row['question']\n",
    "            })\n",
    "            response = process(model, messages)\n",
    "            messages.append({\n",
    "                \"role\": \"system\",\n",
    "                \"content\": response\n",
    "            })\n",
    "            test_df.loc[i, 'y_hat'] = response\n",
    "            sleep(2)\n",
    "        sleep(15)\n",
    "        test_df.to_csv(os.path.join(base_path_babi, 'results_llm', model, f'{task}.csv'), index=False)"
   ]
  },
  {
   "cell_type": "code",
   "execution_count": 30,
   "metadata": {},
   "outputs": [],
   "source": [
    "babi_eval()"
   ]
  },
  {
   "cell_type": "code",
   "execution_count": 6,
   "metadata": {},
   "outputs": [],
   "source": [
    "def rocstories_eval():\n",
    "    os.makedirs(os.path.join(base_path_rocstories, 'results_llm'), exist_ok=True)\n",
    "    tasks = pd.read_csv(os.path.join(base_path_rocstories, 'results_ctm', 'rocstories_result.csv'))\n",
    "    tasks['input'] = tasks.apply(lambda x: f\"{x['context']}\\n{x['question']}\", axis=1)\n",
    "    for model in all_models:\n",
    "        final_df = pd.DataFrame(columns = ['task', 'input', 'y', 'y_hat'])\n",
    "        os.makedirs(os.path.join(base_path_rocstories, 'results_llm', model), exist_ok=True)\n",
    "        for i, task in tasks.iterrows():\n",
    "            messages = []\n",
    "            messages.append({\n",
    "                \"role\": \"system\",\n",
    "                \"content\": \"You will be provided with a sequence of story fragments that together form a coherent narrative. At certain point, you will be presented with a question offering two possible endings to the story. Your task is to analyze both options and determine which ending best aligns with the logical flow, thematic consistency, and causal coherence of the preceding story. Return only the number of the correct ending.\"\n",
    "            })\n",
    "\n",
    "            messages.append({\n",
    "                \"role\": \"user\",\n",
    "                \"content\": task['input']\n",
    "            })\n",
    "            response = process(model, messages)\n",
    "            final_df.loc[len(final_df)] = {\n",
    "                                            'task': task['input'], \n",
    "                                            'input': task['input'], \n",
    "                                            'y': task['y'], \n",
    "                                            'y_hat': response\n",
    "                                        }\n",
    "        final_df.to_csv(os.path.join(base_path_rocstories, 'results_llm', model, 'rocstories_result.csv'), index=False)"
   ]
  },
  {
   "cell_type": "code",
   "execution_count": 7,
   "metadata": {},
   "outputs": [],
   "source": [
    "rocstories_eval()"
   ]
  },
  {
   "cell_type": "markdown",
   "metadata": {},
   "source": [
    "### Quality check"
   ]
  },
  {
   "cell_type": "code",
   "execution_count": 2,
   "metadata": {},
   "outputs": [],
   "source": [
    "import pandas as pd\n",
    "df = pd.read_csv('/Users/guisalesfer/CTM_implementation/bibliography and literature review/Quality Assessment.csv')"
   ]
  },
  {
   "cell_type": "code",
   "execution_count": 7,
   "metadata": {},
   "outputs": [],
   "source": [
    "df.replace({1:'Yes', 2:'Partially', 3:'Not Aplicable', 4:'No'}, inplace=True)"
   ]
  },
  {
   "cell_type": "code",
   "execution_count": 9,
   "metadata": {},
   "outputs": [],
   "source": [
    "df.to_csv('/Users/guisalesfer/CTM_implementation/bibliography and literature review/Quality Assessment.csv', index=False)"
   ]
  },
  {
   "cell_type": "code",
   "execution_count": 12,
   "metadata": {},
   "outputs": [
    {
     "data": {
      "text/plain": [
       "Index(['Artigo',\n",
       "       'Os componentes específicos da arquitetura de Blum dedicados ao raciocínio lógico estão claramente identificados?',\n",
       "       'Os resultados demonstram capacidade de resolver problemas de lógica de diferentes níveis de complexidade?',\n",
       "       'Foi realizada alguma análise de custo computacional ou eficiência do modelo?',\n",
       "       'Os resultados demonstram consistência em diferentes subconjuntos do dataset?',\n",
       "       'A metodologia está claramente descrita e é reproduzível?',\n",
       "       'Há descrição detalhada dos datasets utilizados, incluindo possíveis vieses?'],\n",
       "      dtype='object')"
      ]
     },
     "execution_count": 12,
     "metadata": {},
     "output_type": "execute_result"
    }
   ],
   "source": [
    "df.columns"
   ]
  },
  {
   "cell_type": "code",
   "execution_count": 22,
   "metadata": {},
   "outputs": [
    {
     "data": {
      "text/plain": [
       "RangeIndex(start=0, stop=17, step=1)"
      ]
     },
     "execution_count": 22,
     "metadata": {},
     "output_type": "execute_result"
    }
   ],
   "source": [
    "df.index"
   ]
  },
  {
   "cell_type": "code",
   "execution_count": 21,
   "metadata": {},
   "outputs": [
    {
     "name": "stdout",
     "output_type": "stream",
     "text": [
      "\n",
      " A Theoretical Computer Science Perspective on Consciousness  & Yes & Partially & Not Aplicable & Not Aplicable & Yes & Not Aplicable \\\\ \n",
      "\\hline\n",
      "\n",
      " A Theoretical Computer Science Perspective on Consciousness and Artificial General Intelligence  & Yes & Partially & Not Aplicable & Not Aplicable & Yes & Not Aplicable \\\\ \n",
      "\\hline\n",
      "\n",
      " A Theoretical Computer Science Perspective on Free Will & Yes & Partially & Not Aplicable & Not Aplicable & Yes & Not Aplicable \\\\ \n",
      "\\hline\n",
      "\n",
      " A blueprint for conscious machines & No & Not Aplicable & No & Not Aplicable & Partially & Not Aplicable \\\\ \n",
      "\\hline\n",
      "\n",
      " A cognitive theory of consciousness  & Yes & Yes & Not Aplicable & Not Aplicable & Yes & Not Aplicable \\\\ \n",
      "\\hline\n",
      "\n",
      " A theory of consciousness from a theoretical computer science perspective: Insights from the Conscious Turing Machine & Yes & Yes & Not Aplicable & Not Aplicable & Yes & Not Aplicable \\\\ \n",
      "\\hline\n",
      "\n",
      " A universal knowledge model and cognitive architectures for prototyping AGI  & Not Aplicable & Partially & No & Not Aplicable & Partially & No \\\\ \n",
      "\\hline\n",
      "\n",
      " AI Consciousness is Inevitable: A Theoretical Computer Science Perspective & Yes & Not Aplicable & Not Aplicable & Not Aplicable & Yes & Not Aplicable \\\\ \n",
      "\\hline\n",
      "\n",
      " Brainish: Formalizing A Multimodal Language for Intelligence and Consciousness  & Yes & Yes & No & Not Aplicable & Yes & No \\\\ \n",
      "\\hline\n",
      "\n",
      " Conscious Processing and the Global Neuronal Workspace Hypothesis  & Partially & Yes & No & No & Yes & No \\\\ \n",
      "\\hline\n",
      "\n",
      " Consciousness in Artificial Intelligence: Insights from the Science of Consciousness & Yes & Yes & No & No & Yes & No \\\\ \n",
      "\\hline\n",
      "\n",
      " Could a Large Language Model be Conscious? & Not Aplicable & Yes & No & No & Not Aplicable & Not Aplicable \\\\ \n",
      "\\hline\n",
      "\n",
      " Deep learning and the Global Workspace Theory  & Yes & Yes & No & No & Yes & No \\\\ \n",
      "\\hline\n",
      "\n",
      " Design and evaluation of a global workspace agent embodied in a realistic multimodal environment & Yes & Yes & Yes & Yes & Yes & Not Aplicable \\\\ \n",
      "\\hline\n",
      "\n",
      " Is artificial consciousness achievable? Lessons from the human brain & Partially & Not Aplicable & Not Aplicable & Not Aplicable & Not Aplicable & Not Aplicable \\\\ \n",
      "\\hline\n",
      "\n",
      " Survey of Consciousness Theory from Computational Perspective & Yes & Yes & Not Aplicable & Not Aplicable & Not Aplicable & Not Aplicable \\\\ \n",
      "\\hline\n",
      "\n",
      " Toward a standard model of consciousness: Reconciling the attention schema, global workspace, higher-order thought, and illusionist theories & Partially & Partially & Not Aplicable & Not Aplicable & Not Aplicable & Not Aplicable \\\\ \n",
      "\\hline\n"
     ]
    },
    {
     "data": {
      "text/plain": [
       "0     None\n",
       "1     None\n",
       "2     None\n",
       "3     None\n",
       "4     None\n",
       "5     None\n",
       "6     None\n",
       "7     None\n",
       "8     None\n",
       "9     None\n",
       "10    None\n",
       "11    None\n",
       "12    None\n",
       "13    None\n",
       "14    None\n",
       "15    None\n",
       "16    None\n",
       "dtype: object"
      ]
     },
     "execution_count": 21,
     "metadata": {},
     "output_type": "execute_result"
    }
   ],
   "source": [
    "df.apply(lambda x: print(f\"\\n {x['Artigo']} & {x['Os componentes específicos da arquitetura de Blum dedicados ao raciocínio lógico estão claramente identificados?']} & {x['Os resultados demonstram capacidade de resolver problemas de lógica de diferentes níveis de complexidade?']} & {x['Foi realizada alguma análise de custo computacional ou eficiência do modelo?']} & {x['Os resultados demonstram consistência em diferentes subconjuntos do dataset?']} & {x['A metodologia está claramente descrita e é reproduzível?']} & {x['Há descrição detalhada dos datasets utilizados, incluindo possíveis vieses?']} \\\\\\ \\n\\hline\"), axis=1)"
   ]
  },
  {
   "cell_type": "code",
   "execution_count": null,
   "metadata": {},
   "outputs": [],
   "source": []
  }
 ],
 "metadata": {
  "kernelspec": {
   "display_name": "tcc_ctm",
   "language": "python",
   "name": "python3"
  },
  "language_info": {
   "codemirror_mode": {
    "name": "ipython",
    "version": 3
   },
   "file_extension": ".py",
   "mimetype": "text/x-python",
   "name": "python",
   "nbconvert_exporter": "python",
   "pygments_lexer": "ipython3",
   "version": "3.8.20"
  }
 },
 "nbformat": 4,
 "nbformat_minor": 2
}
