{
 "cells": [
  {
   "cell_type": "code",
   "execution_count": 5,
   "metadata": {},
   "outputs": [],
   "source": [
    "import os\n",
    "import shutil"
   ]
  },
  {
   "cell_type": "code",
   "execution_count": null,
   "metadata": {},
   "outputs": [],
   "source": [
    "os.makedirs('/Users/guisalesfer/CTM_implementation/tasks/en/train', exist_ok=True)\n",
    "os.makedirs('/Users/guisalesfer/CTM_implementation/tasks/en/test', exist_ok=True)\n",
    "\n",
    "for file in os.listdir('/Users/guisalesfer/CTM_implementation/tasks/en'):\n",
    "    if 'train' in file:\n",
    "        shutil.move(os.path.join('/Users/guisalesfer/CTM_implementation/tasks/en', file), os.path.join('/Users/guisalesfer/CTM_implementation/tasks/train', file))\n",
    "    elif 'test' in file:\n",
    "        shutil.move(os.path.join('/Users/guisalesfer/CTM_implementation/tasks/en', file), os.path.join('/Users/guisalesfer/CTM_implementation/tasks/test', file))"
   ]
  },
  {
   "cell_type": "code",
   "execution_count": 14,
   "metadata": {},
   "outputs": [],
   "source": [
    "for file in os.listdir('/Users/guisalesfer/CTM_implementation/tasks/train'):\n",
    "    os.makedirs(os.path.join('/Users/guisalesfer/CTM_implementation/tasks/train', file.split('_')[1]))\n",
    "    shutil.move(os.path.join('/Users/guisalesfer/CTM_implementation/tasks/train', file), os.path.join('/Users/guisalesfer/CTM_implementation/tasks/train', file.split('_')[1], file))"
   ]
  },
  {
   "cell_type": "code",
   "execution_count": null,
   "metadata": {},
   "outputs": [],
   "source": [
    "for file in os.listdir('/Users/guisalesfer/CTM_implementation/tasks/en/test'):\n",
    "    if 'test' in file:\n",
    "        os.makedirs(os.path.join('/Users/guisalesfer/CTM_implementation/tasks/en/test', file.split('_')[1]))\n",
    "        shutil.move(os.path.join('/Users/guisalesfer/CTM_implementation/tasks/en/test', file), os.path.join('/Users/guisalesfer/CTM_implementation/tasks/en/test', file.split('_')[1], file))"
   ]
  },
  {
   "cell_type": "code",
   "execution_count": 19,
   "metadata": {},
   "outputs": [],
   "source": [
    "def split_stories(input_file, output_folder):\n",
    "    # Criar a pasta de saída se não existir\n",
    "    if not os.path.exists(output_folder):\n",
    "        os.makedirs(output_folder)\n",
    "    \n",
    "    with open(input_file, 'r', encoding='utf-8') as f:\n",
    "        lines = f.readlines()\n",
    "    \n",
    "    stories = []  # Lista para armazenar as histórias\n",
    "    current_story = []  # Armazena a história atual\n",
    "    \n",
    "    for line in lines:\n",
    "        if line.strip():  # Verifica se a linha não está vazia\n",
    "            line_id = line.split()[0]  # Obtém o ID da linha\n",
    "            \n",
    "            if line_id == '1' and current_story:  # Nova história detectada\n",
    "                stories.append(current_story)\n",
    "                current_story = []\n",
    "            \n",
    "            current_story.append(line.strip())\n",
    "    \n",
    "    # Adiciona a última história\n",
    "    if current_story:\n",
    "        stories.append(current_story)\n",
    "    \n",
    "    # Salvar cada história como um arquivo separado\n",
    "    for i, story in enumerate(stories):\n",
    "        story_filename = os.path.join(output_folder, f'story_{i+1}.txt')\n",
    "        with open(story_filename, 'w', encoding='utf-8') as f:\n",
    "            f.write('\\n'.join(story))\n",
    "    \n",
    "    print(f\"{len(stories)} histórias foram salvas na pasta {output_folder}.\")\n"
   ]
  },
  {
   "cell_type": "code",
   "execution_count": 24,
   "metadata": {},
   "outputs": [
    {
     "name": "stdout",
     "output_type": "stream",
     "text": [
      "200 histórias foram salvas na pasta /Users/guisalesfer/CTM_implementation/tasks/test/simple-negation.\n",
      "200 histórias foram salvas na pasta /Users/guisalesfer/CTM_implementation/tasks/test/three-supporting-facts.\n",
      "200 histórias foram salvas na pasta /Users/guisalesfer/CTM_implementation/tasks/test/counting.\n",
      "200 histórias foram salvas na pasta /Users/guisalesfer/CTM_implementation/tasks/test/conjunction.\n",
      "200 histórias foram salvas na pasta /Users/guisalesfer/CTM_implementation/tasks/test/three-arg-relations.\n",
      "200 histórias foram salvas na pasta /Users/guisalesfer/CTM_implementation/tasks/test/two-supporting-facts.\n",
      "1000 histórias foram salvas na pasta /Users/guisalesfer/CTM_implementation/tasks/test/basic-induction.\n",
      "1000 histórias foram salvas na pasta /Users/guisalesfer/CTM_implementation/tasks/test/path-finding.\n",
      "250 histórias foram salvas na pasta /Users/guisalesfer/CTM_implementation/tasks/test/basic-deduction.\n",
      "200 histórias foram salvas na pasta /Users/guisalesfer/CTM_implementation/tasks/test/time-reasoning.\n",
      "125 histórias foram salvas na pasta /Users/guisalesfer/CTM_implementation/tasks/test/positional-reasoning.\n",
      "200 histórias foram salvas na pasta /Users/guisalesfer/CTM_implementation/tasks/test/basic-coreference.\n",
      "200 histórias foram salvas na pasta /Users/guisalesfer/CTM_implementation/tasks/test/single-supporting-fact.\n",
      "200 histórias foram salvas na pasta /Users/guisalesfer/CTM_implementation/tasks/test/indefinite-knowledge.\n",
      "93 histórias foram salvas na pasta /Users/guisalesfer/CTM_implementation/tasks/test/agents-motivations.\n",
      "200 histórias foram salvas na pasta /Users/guisalesfer/CTM_implementation/tasks/test/yes-no-questions.\n",
      "1000 histórias foram salvas na pasta /Users/guisalesfer/CTM_implementation/tasks/test/two-arg-relations.\n",
      "200 histórias foram salvas na pasta /Users/guisalesfer/CTM_implementation/tasks/test/lists-sets.\n",
      "199 histórias foram salvas na pasta /Users/guisalesfer/CTM_implementation/tasks/test/size-reasoning.\n",
      "200 histórias foram salvas na pasta /Users/guisalesfer/CTM_implementation/tasks/test/compound-coreference.\n"
     ]
    }
   ],
   "source": [
    "for task in os.listdir('/Users/guisalesfer/CTM_implementation/tasks/en/test'):\n",
    "    for file in os.listdir(os.path.join('/Users/guisalesfer/CTM_implementation/tasks/en/test', task)):\n",
    "    \tsplit_stories(os.path.join('/Users/guisalesfer/CTM_implementation/tasks/en/test', task, file), os.path.join('/Users/guisalesfer/CTM_implementation/tasks/test', task))"
   ]
  },
  {
   "cell_type": "code",
   "execution_count": null,
   "metadata": {},
   "outputs": [],
   "source": []
  }
 ],
 "metadata": {
  "kernelspec": {
   "display_name": "tcc_ctm",
   "language": "python",
   "name": "python3"
  },
  "language_info": {
   "codemirror_mode": {
    "name": "ipython",
    "version": 3
   },
   "file_extension": ".py",
   "mimetype": "text/x-python",
   "name": "python",
   "nbconvert_exporter": "python",
   "pygments_lexer": "ipython3",
   "version": "3.8.20"
  }
 },
 "nbformat": 4,
 "nbformat_minor": 2
}
