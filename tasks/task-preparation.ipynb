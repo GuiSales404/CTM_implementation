{
 "cells": [
  {
   "cell_type": "code",
   "execution_count": 1,
   "metadata": {},
   "outputs": [],
   "source": [
    "import pandas as pd"
   ]
  },
  {
   "cell_type": "code",
   "execution_count": 2,
   "metadata": {},
   "outputs": [],
   "source": [
    "df = pd.read_csv('/Users/guisalesfer/CTM_implementation/tasks/RocStories/cloze_test_val__winter2018-cloze_test_ALL_val - 1 - 1.csv')"
   ]
  },
  {
   "cell_type": "code",
   "execution_count": 20,
   "metadata": {},
   "outputs": [
    {
     "data": {
      "text/plain": [
       "Index(['InputStoryid', 'InputSentence1', 'InputSentence2', 'InputSentence3',\n",
       "       'InputSentence4', 'RandomFifthSentenceQuiz1',\n",
       "       'RandomFifthSentenceQuiz2', 'AnswerRightEnding'],\n",
       "      dtype='object')"
      ]
     },
     "execution_count": 20,
     "metadata": {},
     "output_type": "execute_result"
    }
   ],
   "source": [
    "df.columns"
   ]
  },
  {
   "cell_type": "code",
   "execution_count": null,
   "metadata": {},
   "outputs": [
    {
     "name": "stdout",
     "output_type": "stream",
     "text": [
      "Context: Abigail keeps a strict schedule. She takes a walk in the morning and at night. She walks for about 30 minutes at a time around the neighborhood. Sometimes she even takes her dog Dexter.\n",
      "Question: Which of these fragments concludes the story in a coherent way? \n",
      "1. And so Abigail was able to lose a lot of weight. \n",
      "2. Abigail climbed off her wheelchair and onto the bed.\n",
      "\n",
      "Context: Jay woke up in the morning to the sound of his car alarm. He ran outside to see what had happened, only to find his car damaged. Someone had hit his car and just driven away. The rear bumper had been destroyed and was on the ground.\n",
      "Question: Which of these fragments concludes the story in a coherent way? \n",
      "1. Jay was livid. \n",
      "2. Jay had a good laugh.\n",
      "\n",
      "Context: Jon and Mika wanted a baby daughter. After years of trying, they finally conceived a baby girl. Unfortunately, the baby had complications. Jon and Mika were scared that the baby would die.\n",
      "Question: Which of these fragments concludes the story in a coherent way? \n",
      "1. Jon and Mika then gave birth to a boy. \n",
      "2. The baby grew up to be healthy and strong.\n",
      "\n",
      "Context: Fran bought a house on the beach. Everyday the cranes would feed off of the bugs in her yard. One day though the cranes stopped coming around. Several months went by and still no cranes\n",
      "Question: Which of these fragments concludes the story in a coherent way? \n",
      "1. Fran's yard is now overrun with bugs. \n",
      "2. Fran suffered a fatal heart attack as she arranged flowers.\n",
      "\n",
      "Context: Levi was very excited about making candles with his mom. He had went to the store with her and helped her pick out scents. Today was the day to make the candles. Levi helped poor the wax into the molds.\n",
      "Question: Which of these fragments concludes the story in a coherent way? \n",
      "1. They burned their candles that evening. \n",
      "2. He poured the majority of it down the drain of the sink.\n",
      "\n",
      "Context: John was a student in law school. He was having a tough time learning all of the material. John decided to do something about this. He met with the professors and got extra tutoring.\n",
      "Question: Which of these fragments concludes the story in a coherent way? \n",
      "1. Pretty soon, he was up to speed and feeling much more confident. \n",
      "2. His professors reassured him that medical school was no picnic.\n",
      "\n",
      "Context: My daughter brought her dog over to play with my dog. Her dog is big and full of energy. My dog is small, quiet and older. They are completely opposite.\n",
      "Question: Which of these fragments concludes the story in a coherent way? \n",
      "1. The cats made a mess out of the house! \n",
      "2. Both dogs enjoyed playing together, anyway.\n",
      "\n",
      "Context: One day I wanted to cook a nice dinner for my family. I decided to cook spaghetti. I boiled the noodles and put the sauce in a pot on the stove. I turned the stove on too high.\n",
      "Question: Which of these fragments concludes the story in a coherent way? \n",
      "1. The sauce burned and stuck to the bottom of the pan. \n",
      "2. It took forever for the sauce to heat up.\n",
      "\n",
      "Context: Margie had a Christmas cactus. It never bloomed. She gave the plant to Desi. Desi took good care of the plant.\n",
      "Question: Which of these fragments concludes the story in a coherent way? \n",
      "1. The cactus flourished under his care. \n",
      "2. The goldfish were very happy and healthy.\n",
      "\n",
      "Context: Gina was in the middle of the backseat surrounded by siblings. They were driving out of town in heavy traffic. Gina looked out the window. In the next car a child was showing his mouth of chewed food.\n",
      "Question: Which of these fragments concludes the story in a coherent way? \n",
      "1. Gina continued to stare. \n",
      "2. Gina was disgusted.\n",
      "\n",
      "Context: When it was time to eat, Mother rang the bell. Dad and Bill knew that sound when they heard it. They dropped their yard work, carefully, and washed their hands. Mother was happy when they finally arrived in the house.\n",
      "Question: Which of these fragments concludes the story in a coherent way? \n",
      "1. She then yelled for them to get back to work. \n",
      "2. The family sat down, and enjoyed a meal together.\n",
      "\n",
      "Context: Julie wants to make food for lunch for the upcoming week. She decides to hard boil a dozen eggs. Julie boils water and dumps the eggs in for 8 minutes each. Finally her eggs are boiled perfectly.\n",
      "Question: Which of these fragments concludes the story in a coherent way? \n",
      "1. Julie makes lunches for her son who is allergic to eggs. \n",
      "2. Julie gets busy making lunches using the boiled eggs.\n",
      "\n",
      "Context: Detention was finally over. The teacher had confiscated Gina's phone. She went to his desk to ask for it back. It turned out a parent needed to collect the phone.\n",
      "Question: Which of these fragments concludes the story in a coherent way? \n",
      "1. The teacher gave Gina her phone back. \n",
      "2. Gina's father agreed to pick up the phone for her.\n",
      "\n",
      "Context: Candice loves tacos. Although her love is strong, her tacos are not very good. Candice decides she wants to better her taco recipe. She searches for an assortment of different taco recipes.\n",
      "Question: Which of these fragments concludes the story in a coherent way? \n",
      "1. Candice stuck to her original taco recipe. \n",
      "2. Candice got better at making tacos.\n",
      "\n",
      "Context: Matthew's mother was busy working on the computer. Matthew screamed. Matthew stomped. Matthew's mother relented and abandoned her work.\n",
      "Question: Which of these fragments concludes the story in a coherent way? \n",
      "1. Matthew's mother finished all of her work on the computer. \n",
      "2. Matthew's mother put Matthew in his time-out corner.\n",
      "\n",
      "Context: Lars had always wanted to try photography. His friend was an excellent photographer, but he had never tried. One day he bought a simple, but high quality, camera. From that day on, Lars shot images of nature every day.\n",
      "Question: Which of these fragments concludes the story in a coherent way? \n",
      "1. Lars fell in love with photography. \n",
      "2. Lars hated photography.\n",
      "\n",
      "Context: Tim decided to spend more time with his granddad. His grandpa loved birdwatching, so Tim watched with him. They marked their sightings in a notebook. Soon Tim was really interested!\n",
      "Question: Which of these fragments concludes the story in a coherent way? \n",
      "1. Tim decided he wasn't interested in birds anymore. \n",
      "2. Tim and his grandad found a hobby that they both enjoyed.\n",
      "\n",
      "Context: Eddie and Angela hadn't been talking to each other for a long time. They lived in their house together like strangers. Finally, they sat down and agreed, it was time for a divorce. Eddie went to the courthouse and filed the paperwork.\n",
      "Question: Which of these fragments concludes the story in a coherent way? \n",
      "1. They were divorced a few months later. \n",
      "2. They fell back in love and stayed together forever.\n",
      "\n",
      "Context: Zeke was tired of living in America. He decided to move to Cozumel. He went to the Cozumel beach and bought some land. Zeke decided to build a house on that land.\n",
      "Question: Which of these fragments concludes the story in a coherent way? \n",
      "1. Zeke then happily moved to America. \n",
      "2. Zeke lived out his life very happy.\n",
      "\n",
      "Context: Throughout my day in school, I was completely tired. As my Spanish teacher taught accents, I was falling asleep. During lunch, I decided to rest on the bleachers in the football field. In addition, I fell asleep on the bus ride home.\n",
      "Question: Which of these fragments concludes the story in a coherent way? \n",
      "1. I decided to watch movies all night. \n",
      "2. I had an early night.\n",
      "\n"
     ]
    }
   ],
   "source": [
    "for i, row in df.sample(20).iterrows():\n",
    "    context = ' '.join([row['InputSentence1'], row['InputSentence2'], row['InputSentence3'], row['InputSentence4']])\n",
    "    question = f'Which of these fragments concludes the story in a coherent way? \\n1. {row[\"RandomFifthSentenceQuiz1\"]} \\n2. {row[\"RandomFifthSentenceQuiz2\"]}'\n"
   ]
  },
  {
   "cell_type": "code",
   "execution_count": 11,
   "metadata": {},
   "outputs": [
    {
     "name": "stdout",
     "output_type": "stream",
     "text": [
      "2\n"
     ]
    }
   ],
   "source": [
    "import re\n",
    "\n",
    "\n",
    "def extract_answers(conteudo):\n",
    "    padrao = r\"### Respostas Completas:\\s*(\\d+|\\[.*?\\])\"\n",
    "    match = re.search(padrao, conteudo, re.DOTALL)\n",
    "\n",
    "    if match:\n",
    "        respostas = match.group(1).strip()# Converte a string da lista para uma lista real\n",
    "        return respostas\n",
    "    return None\n",
    "\n",
    "\n",
    "with open(\"/Users/guisalesfer/CTM_implementation/ctm_project/classes/output_report.txt\", \"r\", encoding=\"utf-8\") as f:\n",
    "    conteudo = f.read()\n",
    "\n",
    "b = extract_answers(conteudo)\n",
    "\n",
    "print(b)"
   ]
  },
  {
   "cell_type": "code",
   "execution_count": null,
   "metadata": {},
   "outputs": [],
   "source": []
  }
 ],
 "metadata": {
  "kernelspec": {
   "display_name": "tcc_ctm",
   "language": "python",
   "name": "python3"
  },
  "language_info": {
   "codemirror_mode": {
    "name": "ipython",
    "version": 3
   },
   "file_extension": ".py",
   "mimetype": "text/x-python",
   "name": "python",
   "nbconvert_exporter": "python",
   "pygments_lexer": "ipython3",
   "version": "3.8.20"
  }
 },
 "nbformat": 4,
 "nbformat_minor": 2
}
