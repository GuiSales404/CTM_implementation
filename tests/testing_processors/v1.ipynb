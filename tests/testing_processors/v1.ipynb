{
 "cells": [
  {
   "cell_type": "markdown",
   "metadata": {},
   "source": [
    "## Análise de Sentimentos"
   ]
  },
  {
   "cell_type": "code",
   "execution_count": 2,
   "metadata": {},
   "outputs": [
    {
     "name": "stdout",
     "output_type": "stream",
     "text": [
      "[{'label': '5 stars', 'score': 0.8916902542114258}]\n"
     ]
    }
   ],
   "source": [
    "from transformers import pipeline\n",
    "\n",
    "sentiment_analysis = pipeline(\"sentiment-analysis\", model=\"nlptown/bert-base-multilingual-uncased-sentiment\", device=0)\n",
    "result = sentiment_analysis(\"Esse produto é maravilhoso!\")\n",
    "print(result)\n"
   ]
  },
  {
   "cell_type": "markdown",
   "metadata": {},
   "source": [
    "O modelo `nlptown/bert-base-multilingual-uncased-sentiment` é ajustado para **análise de sentimentos em 5 níveis**, com as seguintes labels:\n",
    "\n",
    "- **1 star**: Sentimento muito negativo\n",
    "- **2 stars**: Sentimento negativo\n",
    "- **3 stars**: Sentimento neutro\n",
    "- **4 stars**: Sentimento positivo\n",
    "- **5 stars**: Sentimento muito positivo\n"
   ]
  },
  {
   "cell_type": "markdown",
   "metadata": {},
   "source": [
    "## NER"
   ]
  },
  {
   "cell_type": "code",
   "execution_count": 106,
   "metadata": {},
   "outputs": [
    {
     "name": "stderr",
     "output_type": "stream",
     "text": [
      "Asking to truncate to max_length but no maximum length is provided and the model has no predefined maximum length. Default to no truncation.\n"
     ]
    },
    {
     "name": "stdout",
     "output_type": "stream",
     "text": [
      "[{'entity': 'B-LOCAL', 'score': np.float32(0.6032972), 'index': 4, 'word': 'França', 'start': 16, 'end': 22}, {'entity': 'B-PESSOA', 'score': np.float32(0.9997147), 'index': 6, 'word': 'Emma', 'start': 25, 'end': 29}, {'entity': 'B-PESSOA', 'score': np.float32(0.99970573), 'index': 7, 'word': '##nu', 'start': 29, 'end': 31}, {'entity': 'B-PESSOA', 'score': np.float32(0.9997003), 'index': 8, 'word': '##el', 'start': 31, 'end': 33}, {'entity': 'I-PESSOA', 'score': np.float32(0.9997819), 'index': 9, 'word': 'Mac', 'start': 34, 'end': 37}, {'entity': 'I-PESSOA', 'score': np.float32(0.99977344), 'index': 10, 'word': '##ron', 'start': 37, 'end': 40}, {'entity': 'B-LOCAL', 'score': np.float32(0.73137456), 'index': 16, 'word': 'Alemanha', 'start': 59, 'end': 67}, {'entity': 'B-PESSOA', 'score': np.float32(0.9995801), 'index': 18, 'word': 'Angel', 'start': 70, 'end': 75}, {'entity': 'B-PESSOA', 'score': np.float32(0.9995579), 'index': 19, 'word': '##a', 'start': 75, 'end': 76}, {'entity': 'I-PESSOA', 'score': np.float32(0.9997882), 'index': 20, 'word': 'Mer', 'start': 77, 'end': 80}, {'entity': 'I-PESSOA', 'score': np.float32(0.999798), 'index': 21, 'word': '##kel', 'start': 80, 'end': 83}, {'entity': 'B-LOCAL', 'score': np.float32(0.9991271), 'index': 28, 'word': 'São', 'start': 105, 'end': 108}, {'entity': 'I-LOCAL', 'score': np.float32(0.99898416), 'index': 29, 'word': 'Paulo', 'start': 109, 'end': 114}]\n"
     ]
    }
   ],
   "source": [
    "from transformers import pipeline\n",
    "\n",
    "# Configura o pipeline para classificação de token com truncamento\n",
    "ner = pipeline(\"token-classification\", model=\"pierreguillou/ner-bert-base-cased-pt-lenerbr\", device=0)\n",
    "entities = ner(\"O presidente da França é Emmanuel Macron. E a chanceler da Alemanha é Angela Merkel. Mas minha casa é em São Paulo.\")\n",
    "print(entities)"
   ]
  },
  {
   "cell_type": "code",
   "execution_count": 107,
   "metadata": {},
   "outputs": [],
   "source": [
    "from typing import List, Dict\n",
    "import numpy as np\n",
    "\n",
    "def group_entities(entities: List[Dict]) -> List[Dict]:\n",
    "    grouped_entities = []\n",
    "    current_group = None\n",
    "\n",
    "    for entity in entities:\n",
    "        if current_group and entity['start'] == current_group['end']:\n",
    "            # Append to the current group\n",
    "            current_group['word'] += entity['word'].replace(\"##\", \"\")\n",
    "            current_group['end'] = entity['end']\n",
    "            current_group['score'] = min(current_group['score'], entity['score'])  # Atualiza o score\n",
    "        else:\n",
    "            # Finaliza o grupo atual e inicia um novo\n",
    "            if current_group:\n",
    "                grouped_entities.append(current_group)\n",
    "            current_group = entity.copy()  # Inicia um novo grupo com a entidade atual\n",
    "    \n",
    "    # Adiciona o último grupo\n",
    "    if current_group:\n",
    "        grouped_entities.append(current_group)\n",
    "\n",
    "    return grouped_entities"
   ]
  },
  {
   "cell_type": "code",
   "execution_count": 108,
   "metadata": {},
   "outputs": [
    {
     "name": "stdout",
     "output_type": "stream",
     "text": [
      "{'entity': 'B-LOCAL', 'score': np.float32(0.6032972), 'index': 4, 'word': 'França', 'start': 16, 'end': 22}\n",
      "{'entity': 'B-PESSOA', 'score': np.float32(0.9997003), 'index': 6, 'word': 'Emmanuel', 'start': 25, 'end': 33}\n",
      "{'entity': 'I-PESSOA', 'score': np.float32(0.99977344), 'index': 9, 'word': 'Macron', 'start': 34, 'end': 40}\n",
      "{'entity': 'B-LOCAL', 'score': np.float32(0.73137456), 'index': 16, 'word': 'Alemanha', 'start': 59, 'end': 67}\n",
      "{'entity': 'B-PESSOA', 'score': np.float32(0.9995579), 'index': 18, 'word': 'Angela', 'start': 70, 'end': 76}\n",
      "{'entity': 'I-PESSOA', 'score': np.float32(0.9997882), 'index': 20, 'word': 'Merkel', 'start': 77, 'end': 83}\n",
      "{'entity': 'B-LOCAL', 'score': np.float32(0.9991271), 'index': 28, 'word': 'São', 'start': 105, 'end': 108}\n",
      "{'entity': 'I-LOCAL', 'score': np.float32(0.99898416), 'index': 29, 'word': 'Paulo', 'start': 109, 'end': 114}\n"
     ]
    }
   ],
   "source": [
    "result = group_entities(entities)\n",
    "\n",
    "# Resultado agrupado\n",
    "for item in result:\n",
    "    print(item)"
   ]
  },
  {
   "cell_type": "code",
   "execution_count": 120,
   "metadata": {},
   "outputs": [
    {
     "name": "stdout",
     "output_type": "stream",
     "text": [
      "[{'entity': 'B-LOCAL', 'score': np.float32(0.6032972), 'index': 4, 'word': 'França', 'start': 16, 'end': 22}]\n",
      "[{'entity': 'B-PESSOA', 'score': np.float32(0.9997003), 'index': 6, 'word': 'Emmanuel', 'start': 25, 'end': 33}, {'entity': 'I-PESSOA', 'score': np.float32(0.99977344), 'index': 9, 'word': 'Macron', 'start': 34, 'end': 40}]\n",
      "[{'entity': 'B-LOCAL', 'score': np.float32(0.73137456), 'index': 16, 'word': 'Alemanha', 'start': 59, 'end': 67}]\n",
      "[{'entity': 'B-PESSOA', 'score': np.float32(0.9995579), 'index': 18, 'word': 'Angela', 'start': 70, 'end': 76}, {'entity': 'I-PESSOA', 'score': np.float32(0.9997882), 'index': 20, 'word': 'Merkel', 'start': 77, 'end': 83}]\n",
      "[{'entity': 'B-LOCAL', 'score': np.float32(0.9991271), 'index': 28, 'word': 'São', 'start': 105, 'end': 108}, {'entity': 'I-LOCAL', 'score': np.float32(0.99898416), 'index': 29, 'word': 'Paulo', 'start': 109, 'end': 114}]\n"
     ]
    }
   ],
   "source": [
    "final = []\n",
    "\n",
    "for pos, item in enumerate(result):\n",
    "    if 'B' in item['entity']:\n",
    "        new_group = []\n",
    "        new_group.append(item)\n",
    "        i = 1\n",
    "        while 'I' in result[result.index(item)+i]['entity']:\n",
    "            if pos+i+1 < len(result):\n",
    "                new_group.append(result[result.index(item)+i])\n",
    "                i += 1\n",
    "            else:\n",
    "                new_group.append(result[result.index(item)+i])\n",
    "                break\n",
    "    if 'I' in item['entity']:\n",
    "        continue\n",
    "    print(new_group)"
   ]
  },
  {
   "cell_type": "markdown",
   "metadata": {},
   "source": [
    "## Sumarização "
   ]
  },
  {
   "cell_type": "code",
   "execution_count": 6,
   "metadata": {},
   "outputs": [
    {
     "name": "stdout",
     "output_type": "stream",
     "text": [
      "O problema é difcil diferenciar uma da outra. 'A dor boa é aquela que associamos ao exerccio fsico, que no limita (o movimento) e permite continuar (a se exercitar) até o moment em que o msculo fica realmente esgotado e no trabalha mais', explica Juan Francisco Marco.\n"
     ]
    }
   ],
   "source": [
    "from transformers import T5Tokenizer, T5ForConditionalGeneration\n",
    "\n",
    "# Carrega o tokenizer e o modelo na GPU\n",
    "tokenizer = T5Tokenizer.from_pretrained(\"PamelaBorelli/flan-t5-base-summarization-pt-br\")\n",
    "# model = T5ForConditionalGeneration.from_pretrained(\"PamelaBorelli/flan-t5-base-summarization-pt-br\").to(\"cuda\")\n",
    "model = T5ForConditionalGeneration.from_pretrained(\"PamelaBorelli/flan-t5-base-summarization-pt-br\")\n",
    "\n",
    "# Texto de entrada e tokenização\n",
    "input_text = (\n",
    "    \"O corpo está mais propenso a sentir dores com exercícios de alta intensidade | Foto: Getty Images O problema está em saber identificar qual é qual. \"\n",
    "    \"'Em algumas situações, é difícil diferenciar uma da outra', reconhece Juan Francisco Marco, professor do Centro de Ciência do Esporte, Treinamento e Fitness Alto Rendimento, na Espanha. \"\n",
    "    \"'A dor boa é aquela que associamos ao exercício físico, que não limita (o movimento) e permite continuar (a se exercitar) até o momento em que o músculo fica realmente esgotado e não trabalha mais', explica. \"\n",
    "    \"É importante detectar qual é o tipo de dor que você está sentindo, para evitar ter problemas mais sérios | Foto: Getty Images Para Francisco Sánchez Diego, diretor do centro de treinamento Corpore 10, 'a dor boa se sente no grupo muscular que você trabalhou, tanto durante o treinamento como nos dias seguintes'.\"\n",
    ")\n",
    "\n",
    "# Move os input_ids para a GPU\n",
    "#input_ids = tokenizer(input_text, return_tensors=\"pt\").input_ids.to(\"cuda\")\n",
    "input_ids = tokenizer(input_text, return_tensors=\"pt\").input_ids\n",
    "# Geração do resumo\n",
    "outputs = model.generate(input_ids, max_new_tokens=250, min_length=25)\n",
    "\n",
    "# Decodificação e impressão do resultado\n",
    "print(tokenizer.decode(outputs[0], skip_special_tokens=True))"
   ]
  },
  {
   "cell_type": "code",
   "execution_count": 9,
   "metadata": {},
   "outputs": [
    {
     "name": "stdout",
     "output_type": "stream",
     "text": [
      "A tecnologia é o conjunto de processos e habilidades usados na produço de bens ou serviços ou na realizaço de objetivos, como em investigaçes cientficas. A forma mais simples de tecnologia é o desenvolvimento e a utilizaço de ferramentas básicas.\n"
     ]
    }
   ],
   "source": [
    "# Texto de entrada e tokenização\n",
    "input_text = \"Tecnologia é o conjunto de processos e habilidades usados na produção de bens ou serviços, ou na realização de objetivos, como em investigações científicas. Isso também pode ser embutido em máquinas para permitir a operação destas sem conhecimento detalhado do funcionamento. Sistema tecnológico (ou computacional) que através do input de dados, faz à análise destes e, então produz um resultado. A forma mais simples de tecnologia é o desenvolvimento e a utilização de ferramentas básicas. A descoberta pré-histórica de como controlar o fogo e a subsequente Revolução Neolítica aumentaram a disponibilidade de fontes de alimento, enquanto a invenção da roda auxiliou humanos a viajar, transportar cargas e controlar seu ambiente. Desenvolvimentos ao longo da história, como a prensa móvel, também conhecida como impressora, o telefone e a Internet diminuíram as barreiras físicas da comunicação e permitiram que os humanos interagissem livremente em uma escala global.\"\n",
    "\n",
    "# Move os input_ids para a GPU\n",
    "#input_ids = tokenizer(input_text, return_tensors=\"pt\").input_ids.to(\"cuda\")\n",
    "input_ids = tokenizer(input_text, return_tensors=\"pt\").input_ids\n",
    "# Geração do resumo\n",
    "outputs = model.generate(input_ids, max_new_tokens=250, min_length=25)\n",
    "\n",
    "# Decodificação e impressão do resultado\n",
    "print(tokenizer.decode(outputs[0], skip_special_tokens=True, clean_up_tokenization_spaces=False))"
   ]
  },
  {
   "cell_type": "markdown",
   "metadata": {},
   "source": [
    "## Pergunta e Resposta"
   ]
  },
  {
   "cell_type": "code",
   "execution_count": 13,
   "metadata": {},
   "outputs": [
    {
     "data": {
      "application/vnd.jupyter.widget-view+json": {
       "model_id": "6ba0c621c14847a48f679bc53c47c474",
       "version_major": 2,
       "version_minor": 0
      },
      "text/plain": [
       "config.json:   0%|          | 0.00/862 [00:00<?, ?B/s]"
      ]
     },
     "metadata": {},
     "output_type": "display_data"
    },
    {
     "data": {
      "application/vnd.jupyter.widget-view+json": {
       "model_id": "29e2886a538f4278b1692ea022f98105",
       "version_major": 2,
       "version_minor": 0
      },
      "text/plain": [
       "pytorch_model.bin:   0%|          | 0.00/433M [00:00<?, ?B/s]"
      ]
     },
     "metadata": {},
     "output_type": "display_data"
    },
    {
     "data": {
      "application/vnd.jupyter.widget-view+json": {
       "model_id": "5659648ac0bc427ebb7ad5689e97530c",
       "version_major": 2,
       "version_minor": 0
      },
      "text/plain": [
       "tokenizer_config.json:   0%|          | 0.00/494 [00:00<?, ?B/s]"
      ]
     },
     "metadata": {},
     "output_type": "display_data"
    },
    {
     "data": {
      "application/vnd.jupyter.widget-view+json": {
       "model_id": "6ddcda4fdf404c269abda1f8c97a0daf",
       "version_major": 2,
       "version_minor": 0
      },
      "text/plain": [
       "vocab.txt:   0%|          | 0.00/210k [00:00<?, ?B/s]"
      ]
     },
     "metadata": {},
     "output_type": "display_data"
    },
    {
     "data": {
      "application/vnd.jupyter.widget-view+json": {
       "model_id": "d3aa68a1e1d844d8b79e9079d6a5a2c1",
       "version_major": 2,
       "version_minor": 0
      },
      "text/plain": [
       "special_tokens_map.json:   0%|          | 0.00/112 [00:00<?, ?B/s]"
      ]
     },
     "metadata": {},
     "output_type": "display_data"
    },
    {
     "name": "stderr",
     "output_type": "stream",
     "text": [
      "Hardware accelerator e.g. GPU is available in the environment, but no `device` argument is passed to the `Pipeline` object. Model will be on CPU.\n"
     ]
    },
    {
     "name": "stdout",
     "output_type": "stream",
     "text": [
      "{'score': 0.9634592533111572, 'start': 2, 'end': 8, 'answer': 'Brasil'}\n"
     ]
    },
    {
     "data": {
      "application/vnd.jupyter.widget-view+json": {
       "model_id": "50482ea9939947608af48ee9235f04d0",
       "version_major": 2,
       "version_minor": 0
      },
      "text/plain": [
       "model.safetensors:   0%|          | 0.00/433M [00:00<?, ?B/s]"
      ]
     },
     "metadata": {},
     "output_type": "display_data"
    }
   ],
   "source": [
    "from transformers import pipeline\n",
    "\n",
    "question_answerer = pipeline(\"question-answering\", model=\"pierreguillou/bert-base-cased-squad-v1.1-portuguese\")\n",
    "context = \"O Brasil é o maior país da América do Sul e faz fronteira com quase todos os países da região.\"\n",
    "result = question_answerer(question=\"Qual é o maior país da América do Sul?\", context=context)\n",
    "print(result)\n"
   ]
  },
  {
   "cell_type": "code",
   "execution_count": 20,
   "metadata": {},
   "outputs": [
    {
     "name": "stdout",
     "output_type": "stream",
     "text": [
      "{'score': 0.9968142509460449, 'start': 25, 'end': 31, 'answer': 'marrom'}\n"
     ]
    }
   ],
   "source": [
    "result = question_answerer(question=\"Qual é a cor do cavalo branco de napoleão ?\", context='Napoleão tinha um cavalo marrom')\n",
    "print(result)"
   ]
  },
  {
   "cell_type": "markdown",
   "metadata": {},
   "source": [
    "## Geração de Texto"
   ]
  },
  {
   "cell_type": "code",
   "execution_count": 6,
   "metadata": {},
   "outputs": [
    {
     "name": "stderr",
     "output_type": "stream",
     "text": [
      "Some parameters are on the meta device because they were offloaded to the disk.\n",
      "Setting `pad_token_id` to `eos_token_id`:None for open-end generation.\n"
     ]
    },
    {
     "data": {
      "text/plain": [
       "[{'generated_text': 'A chave para a vida é a comunhão de amor. Uma vez que vocês se amam, a vida é mais'}]"
      ]
     },
     "execution_count": 6,
     "metadata": {},
     "output_type": "execute_result"
    }
   ],
   "source": [
    "import torch\n",
    "from transformers import pipeline\n",
    "\n",
    "model_id = \"meta-llama/Llama-3.2-1B\"\n",
    "\n",
    "pipe = pipeline(\n",
    "    \"text-generation\", \n",
    "    model=model_id, \n",
    "    torch_dtype=torch.bfloat16, \n",
    "    device_map=\"auto\",\n",
    "\n",
    ")\n",
    "\n",
    "pipe(\"A chave para a vida é\", max_new_tokens=20)\n"
   ]
  },
  {
   "cell_type": "code",
   "execution_count": 9,
   "metadata": {},
   "outputs": [
    {
     "data": {
      "application/vnd.jupyter.widget-view+json": {
       "model_id": "f6d709c116c54029823e9865d44d8d82",
       "version_major": 2,
       "version_minor": 0
      },
      "text/plain": [
       "tokenizer_config.json:   0%|          | 0.00/1.40k [00:00<?, ?B/s]"
      ]
     },
     "metadata": {},
     "output_type": "display_data"
    },
    {
     "data": {
      "application/vnd.jupyter.widget-view+json": {
       "model_id": "6ad4f60dec60456a9297f14ea9d9f80a",
       "version_major": 2,
       "version_minor": 0
      },
      "text/plain": [
       "vocab.json:   0%|          | 0.00/2.01M [00:00<?, ?B/s]"
      ]
     },
     "metadata": {},
     "output_type": "display_data"
    },
    {
     "data": {
      "application/vnd.jupyter.widget-view+json": {
       "model_id": "dd0237d9210044e785307a3f88dadeeb",
       "version_major": 2,
       "version_minor": 0
      },
      "text/plain": [
       "merges.txt:   0%|          | 0.00/917k [00:00<?, ?B/s]"
      ]
     },
     "metadata": {},
     "output_type": "display_data"
    },
    {
     "data": {
      "application/vnd.jupyter.widget-view+json": {
       "model_id": "9e5b650a9a414e8796f91b9731e5affc",
       "version_major": 2,
       "version_minor": 0
      },
      "text/plain": [
       "tokenizer.json:   0%|          | 0.00/4.24M [00:00<?, ?B/s]"
      ]
     },
     "metadata": {},
     "output_type": "display_data"
    },
    {
     "data": {
      "application/vnd.jupyter.widget-view+json": {
       "model_id": "89a9438aefba477db84846562987d43b",
       "version_major": 2,
       "version_minor": 0
      },
      "text/plain": [
       "special_tokens_map.json:   0%|          | 0.00/784 [00:00<?, ?B/s]"
      ]
     },
     "metadata": {},
     "output_type": "display_data"
    },
    {
     "data": {
      "application/vnd.jupyter.widget-view+json": {
       "model_id": "5397d3f6653c4307b0921908c8d45a7b",
       "version_major": 2,
       "version_minor": 0
      },
      "text/plain": [
       "config.json:   0%|          | 0.00/608 [00:00<?, ?B/s]"
      ]
     },
     "metadata": {},
     "output_type": "display_data"
    },
    {
     "data": {
      "application/vnd.jupyter.widget-view+json": {
       "model_id": "b489681b3f734d87b5ddeb1f16f61411",
       "version_major": 2,
       "version_minor": 0
      },
      "text/plain": [
       "model.safetensors:   0%|          | 0.00/3.29G [00:00<?, ?B/s]"
      ]
     },
     "metadata": {},
     "output_type": "display_data"
    },
    {
     "data": {
      "application/vnd.jupyter.widget-view+json": {
       "model_id": "efd1c7b84783402ea9c5c5abad421e57",
       "version_major": 2,
       "version_minor": 0
      },
      "text/plain": [
       "generation_config.json:   0%|          | 0.00/121 [00:00<?, ?B/s]"
      ]
     },
     "metadata": {},
     "output_type": "display_data"
    }
   ],
   "source": [
    "import torch\n",
    "from transformers import AutoTokenizer, AutoModelForCausalLM\n",
    "\n",
    "# caminho_modelo = \"zhengr/MixTAO-7Bx2-MoE-Instruct-v7.0\"\n",
    "# caminho_modelo = \"mistralai/Mistral-7B-v0.1\"\n",
    "# caminho_modelo = \"stabilityai/stablelm-zephyr-3b\"\n",
    "# caminho_modelo = \"HuggingFaceH4/zephyr-7b-beta\"\n",
    "caminho_modelo = \"stabilityai/stablelm-2-zephyr-1_6b\"\n",
    "\n",
    "device = torch.device(\"cuda\" if torch.cuda.is_available() else \"cpu\")\n",
    "\n",
    "# Carrega tokenizer e modelo uma única vez\n",
    "tokenizer = AutoTokenizer.from_pretrained(caminho_modelo, trust_remote_code=True)\n",
    "model = AutoModelForCausalLM.from_pretrained(caminho_modelo, trust_remote_code=True).to(device)\n",
    "\n",
    "if device.type == 'cuda':\n",
    "  torch.set_default_tensor_type(torch.cuda.BFloat16Tensor)\n",
    "\n",
    "# Garantir que pad_token_id esteja definido\n",
    "if tokenizer.pad_token_id is None:\n",
    "  tokenizer.pad_token_id = tokenizer.eos_token_id"
   ]
  },
  {
   "cell_type": "code",
   "execution_count": 11,
   "metadata": {},
   "outputs": [],
   "source": [
    "prompt = f\"\"\"<|im_start|>O segredo da vida é<|im_end|>\"\"\"\n",
    "\n",
    "tokens_entrada = tokenizer.encode(prompt, return_tensors='pt', truncation=True, max_length=16).to(device)\n",
    "max_length = tokens_entrada.shape[1] + 10  # Ajuste conforme necessário\n",
    "\n",
    "# Gera a máscara de atenção para todos os tokens\n",
    "attention_mask = torch.ones(tokens_entrada.shape, dtype=torch.long, device=device)\n",
    "\n",
    "# Geração do texto\n",
    "resumos = model.generate(\n",
    "\tinput_ids=tokens_entrada,\n",
    "\tattention_mask=attention_mask,\n",
    "\tmax_length=max_length,\n",
    "\tdo_sample=True,\n",
    "\ttemperature=0.1,\n",
    "\tnum_return_sequences=1,\n",
    "\teos_token_id=tokenizer.eos_token_id,\n",
    "\tpad_token_id=tokenizer.pad_token_id\n",
    ")\n",
    "\n",
    "texto_saida = tokenizer.decode(resumos[0], skip_special_tokens=True)\n",
    "num_tokens_saida = tokenizer(texto_saida, return_tensors='pt').input_ids.shape[1]"
   ]
  },
  {
   "cell_type": "code",
   "execution_count": 12,
   "metadata": {},
   "outputs": [
    {
     "data": {
      "text/plain": [
       "'O segredo da vida é� encontrar a felicidade em cada momento presente'"
      ]
     },
     "execution_count": 12,
     "metadata": {},
     "output_type": "execute_result"
    }
   ],
   "source": [
    "texto_saida"
   ]
  }
 ],
 "metadata": {
  "kernelspec": {
   "display_name": "tcc_ctm",
   "language": "python",
   "name": "python3"
  },
  "language_info": {
   "codemirror_mode": {
    "name": "ipython",
    "version": 3
   },
   "file_extension": ".py",
   "mimetype": "text/x-python",
   "name": "python",
   "nbconvert_exporter": "python",
   "pygments_lexer": "ipython3",
   "version": "3.12.4"
  }
 },
 "nbformat": 4,
 "nbformat_minor": 2
}
