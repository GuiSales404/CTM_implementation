{
 "cells": [
  {
   "cell_type": "markdown",
   "metadata": {},
   "source": [
    "## Análise de Sentimentos"
   ]
  },
  {
   "cell_type": "code",
   "execution_count": 2,
   "metadata": {},
   "outputs": [
    {
     "name": "stdout",
     "output_type": "stream",
     "text": [
      "[{'label': '5 stars', 'score': 0.8916902542114258}]\n"
     ]
    }
   ],
   "source": [
    "from transformers import pipeline\n",
    "\n",
    "sentiment_analysis = pipeline(\"sentiment-analysis\", model=\"nlptown/bert-base-multilingual-uncased-sentiment\", device=0)\n",
    "result = sentiment_analysis(\"Esse produto é maravilhoso!\")\n",
    "print(result)\n"
   ]
  },
  {
   "cell_type": "markdown",
   "metadata": {},
   "source": [
    "O modelo `nlptown/bert-base-multilingual-uncased-sentiment` é ajustado para **análise de sentimentos em 5 níveis**, com as seguintes labels:\n",
    "\n",
    "- **1 star**: Sentimento muito negativo\n",
    "- **2 stars**: Sentimento negativo\n",
    "- **3 stars**: Sentimento neutro\n",
    "- **4 stars**: Sentimento positivo\n",
    "- **5 stars**: Sentimento muito positivo\n"
   ]
  },
  {
   "cell_type": "markdown",
   "metadata": {},
   "source": [
    "## NER"
   ]
  },
  {
   "cell_type": "code",
   "execution_count": 106,
   "metadata": {},
   "outputs": [
    {
     "name": "stderr",
     "output_type": "stream",
     "text": [
      "Asking to truncate to max_length but no maximum length is provided and the model has no predefined maximum length. Default to no truncation.\n"
     ]
    },
    {
     "name": "stdout",
     "output_type": "stream",
     "text": [
      "[{'entity': 'B-LOCAL', 'score': np.float32(0.6032972), 'index': 4, 'word': 'França', 'start': 16, 'end': 22}, {'entity': 'B-PESSOA', 'score': np.float32(0.9997147), 'index': 6, 'word': 'Emma', 'start': 25, 'end': 29}, {'entity': 'B-PESSOA', 'score': np.float32(0.99970573), 'index': 7, 'word': '##nu', 'start': 29, 'end': 31}, {'entity': 'B-PESSOA', 'score': np.float32(0.9997003), 'index': 8, 'word': '##el', 'start': 31, 'end': 33}, {'entity': 'I-PESSOA', 'score': np.float32(0.9997819), 'index': 9, 'word': 'Mac', 'start': 34, 'end': 37}, {'entity': 'I-PESSOA', 'score': np.float32(0.99977344), 'index': 10, 'word': '##ron', 'start': 37, 'end': 40}, {'entity': 'B-LOCAL', 'score': np.float32(0.73137456), 'index': 16, 'word': 'Alemanha', 'start': 59, 'end': 67}, {'entity': 'B-PESSOA', 'score': np.float32(0.9995801), 'index': 18, 'word': 'Angel', 'start': 70, 'end': 75}, {'entity': 'B-PESSOA', 'score': np.float32(0.9995579), 'index': 19, 'word': '##a', 'start': 75, 'end': 76}, {'entity': 'I-PESSOA', 'score': np.float32(0.9997882), 'index': 20, 'word': 'Mer', 'start': 77, 'end': 80}, {'entity': 'I-PESSOA', 'score': np.float32(0.999798), 'index': 21, 'word': '##kel', 'start': 80, 'end': 83}, {'entity': 'B-LOCAL', 'score': np.float32(0.9991271), 'index': 28, 'word': 'São', 'start': 105, 'end': 108}, {'entity': 'I-LOCAL', 'score': np.float32(0.99898416), 'index': 29, 'word': 'Paulo', 'start': 109, 'end': 114}]\n"
     ]
    }
   ],
   "source": [
    "from transformers import pipeline\n",
    "\n",
    "# Configura o pipeline para classificação de token com truncamento\n",
    "ner = pipeline(\"token-classification\", model=\"pierreguillou/ner-bert-base-cased-pt-lenerbr\", device=0)\n",
    "entities = ner(\"O presidente da França é Emmanuel Macron. E a chanceler da Alemanha é Angela Merkel. Mas minha casa é em São Paulo.\")\n",
    "print(entities)"
   ]
  },
  {
   "cell_type": "code",
   "execution_count": 107,
   "metadata": {},
   "outputs": [],
   "source": [
    "from typing import List, Dict\n",
    "import numpy as np\n",
    "\n",
    "def group_entities(entities: List[Dict]) -> List[Dict]:\n",
    "    grouped_entities = []\n",
    "    current_group = None\n",
    "\n",
    "    for entity in entities:\n",
    "        if current_group and entity['start'] == current_group['end']:\n",
    "            # Append to the current group\n",
    "            current_group['word'] += entity['word'].replace(\"##\", \"\")\n",
    "            current_group['end'] = entity['end']\n",
    "            current_group['score'] = min(current_group['score'], entity['score'])  # Atualiza o score\n",
    "        else:\n",
    "            # Finaliza o grupo atual e inicia um novo\n",
    "            if current_group:\n",
    "                grouped_entities.append(current_group)\n",
    "            current_group = entity.copy()  # Inicia um novo grupo com a entidade atual\n",
    "    \n",
    "    # Adiciona o último grupo\n",
    "    if current_group:\n",
    "        grouped_entities.append(current_group)\n",
    "\n",
    "    return grouped_entities"
   ]
  },
  {
   "cell_type": "code",
   "execution_count": 108,
   "metadata": {},
   "outputs": [
    {
     "name": "stdout",
     "output_type": "stream",
     "text": [
      "{'entity': 'B-LOCAL', 'score': np.float32(0.6032972), 'index': 4, 'word': 'França', 'start': 16, 'end': 22}\n",
      "{'entity': 'B-PESSOA', 'score': np.float32(0.9997003), 'index': 6, 'word': 'Emmanuel', 'start': 25, 'end': 33}\n",
      "{'entity': 'I-PESSOA', 'score': np.float32(0.99977344), 'index': 9, 'word': 'Macron', 'start': 34, 'end': 40}\n",
      "{'entity': 'B-LOCAL', 'score': np.float32(0.73137456), 'index': 16, 'word': 'Alemanha', 'start': 59, 'end': 67}\n",
      "{'entity': 'B-PESSOA', 'score': np.float32(0.9995579), 'index': 18, 'word': 'Angela', 'start': 70, 'end': 76}\n",
      "{'entity': 'I-PESSOA', 'score': np.float32(0.9997882), 'index': 20, 'word': 'Merkel', 'start': 77, 'end': 83}\n",
      "{'entity': 'B-LOCAL', 'score': np.float32(0.9991271), 'index': 28, 'word': 'São', 'start': 105, 'end': 108}\n",
      "{'entity': 'I-LOCAL', 'score': np.float32(0.99898416), 'index': 29, 'word': 'Paulo', 'start': 109, 'end': 114}\n"
     ]
    }
   ],
   "source": [
    "result = group_entities(entities)\n",
    "\n",
    "# Resultado agrupado\n",
    "for item in result:\n",
    "    print(item)"
   ]
  },
  {
   "cell_type": "code",
   "execution_count": 120,
   "metadata": {},
   "outputs": [
    {
     "name": "stdout",
     "output_type": "stream",
     "text": [
      "[{'entity': 'B-LOCAL', 'score': np.float32(0.6032972), 'index': 4, 'word': 'França', 'start': 16, 'end': 22}]\n",
      "[{'entity': 'B-PESSOA', 'score': np.float32(0.9997003), 'index': 6, 'word': 'Emmanuel', 'start': 25, 'end': 33}, {'entity': 'I-PESSOA', 'score': np.float32(0.99977344), 'index': 9, 'word': 'Macron', 'start': 34, 'end': 40}]\n",
      "[{'entity': 'B-LOCAL', 'score': np.float32(0.73137456), 'index': 16, 'word': 'Alemanha', 'start': 59, 'end': 67}]\n",
      "[{'entity': 'B-PESSOA', 'score': np.float32(0.9995579), 'index': 18, 'word': 'Angela', 'start': 70, 'end': 76}, {'entity': 'I-PESSOA', 'score': np.float32(0.9997882), 'index': 20, 'word': 'Merkel', 'start': 77, 'end': 83}]\n",
      "[{'entity': 'B-LOCAL', 'score': np.float32(0.9991271), 'index': 28, 'word': 'São', 'start': 105, 'end': 108}, {'entity': 'I-LOCAL', 'score': np.float32(0.99898416), 'index': 29, 'word': 'Paulo', 'start': 109, 'end': 114}]\n"
     ]
    }
   ],
   "source": [
    "final = []\n",
    "\n",
    "for pos, item in enumerate(result):\n",
    "    if 'B' in item['entity']:\n",
    "        new_group = []\n",
    "        new_group.append(item)\n",
    "        i = 1\n",
    "        while 'I' in result[result.index(item)+i]['entity']:\n",
    "            if pos+i+1 < len(result):\n",
    "                new_group.append(result[result.index(item)+i])\n",
    "                i += 1\n",
    "            else:\n",
    "                new_group.append(result[result.index(item)+i])\n",
    "                break\n",
    "    if 'I' in item['entity']:\n",
    "        continue\n",
    "    print(new_group)"
   ]
  },
  {
   "cell_type": "markdown",
   "metadata": {},
   "source": [
    "## Sumarização "
   ]
  },
  {
   "cell_type": "code",
   "execution_count": 2,
   "metadata": {},
   "outputs": [
    {
     "name": "stderr",
     "output_type": "stream",
     "text": [
      "/home/gui/.local/lib/python3.12/site-packages/transformers/generation/utils.py:1375: UserWarning: Using the model-agnostic default `max_length` (=20) to control the generation length. We recommend setting `max_new_tokens` to control the maximum length of the generation.\n",
      "  warnings.warn(\n"
     ]
    },
    {
     "name": "stdout",
     "output_type": "stream",
     "text": [
      "O problema é difcil diferenciar uma da outr\n"
     ]
    }
   ],
   "source": [
    "from transformers import T5Tokenizer, T5ForConditionalGeneration\n",
    "\n",
    "# Carrega o tokenizer e o modelo na GPU\n",
    "tokenizer = T5Tokenizer.from_pretrained(\"PamelaBorelli/flan-t5-base-summarization-pt-br\")\n",
    "model = T5ForConditionalGeneration.from_pretrained(\"PamelaBorelli/flan-t5-base-summarization-pt-br\").to(\"cuda\")\n",
    "\n",
    "# Texto de entrada e tokenização\n",
    "input_text = (\n",
    "    \"O corpo está mais propenso a sentir dores com exercícios de alta intensidade | Foto: Getty Images O problema está em saber identificar qual é qual. \"\n",
    "    \"'Em algumas situações, é difícil diferenciar uma da outra', reconhece Juan Francisco Marco, professor do Centro de Ciência do Esporte, Treinamento e Fitness Alto Rendimento, na Espanha. \"\n",
    "    \"'A dor boa é aquela que associamos ao exercício físico, que não limita (o movimento) e permite continuar (a se exercitar) até o momento em que o músculo fica realmente esgotado e não trabalha mais', explica. \"\n",
    "    \"É importante detectar qual é o tipo de dor que você está sentindo, para evitar ter problemas mais sérios | Foto: Getty Images Para Francisco Sánchez Diego, diretor do centro de treinamento Corpore 10, 'a dor boa se sente no grupo muscular que você trabalhou, tanto durante o treinamento como nos dias seguintes'.\"\n",
    ")\n",
    "\n",
    "# Move os input_ids para a GPU\n",
    "input_ids = tokenizer(input_text, return_tensors=\"pt\").input_ids.to(\"cuda\")\n",
    "\n",
    "# Geração do resumo\n",
    "outputs = model.generate(input_ids)\n",
    "\n",
    "# Decodificação e impressão do resultado\n",
    "print(tokenizer.decode(outputs[0], skip_special_tokens=True))"
   ]
  },
  {
   "cell_type": "code",
   "execution_count": null,
   "metadata": {},
   "outputs": [],
   "source": []
  }
 ],
 "metadata": {
  "kernelspec": {
   "display_name": "tcc_ctm",
   "language": "python",
   "name": "python3"
  },
  "language_info": {
   "codemirror_mode": {
    "name": "ipython",
    "version": 3
   },
   "file_extension": ".py",
   "mimetype": "text/x-python",
   "name": "python",
   "nbconvert_exporter": "python",
   "pygments_lexer": "ipython3",
   "version": "3.12.5"
  }
 },
 "nbformat": 4,
 "nbformat_minor": 2
}
